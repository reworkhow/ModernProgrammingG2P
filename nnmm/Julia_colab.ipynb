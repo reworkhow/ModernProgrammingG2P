{
  "cells": [
    {
      "cell_type": "code",
      "execution_count": null,
      "metadata": {
        "colab": {
          "base_uri": "https://localhost:8080/"
        },
        "id": "GIeFXS0F0zww",
        "outputId": "b4a6bcfc-53c0-43e7-8cc9-db931a0856ec"
      },
      "outputs": [
        {
          "output_type": "stream",
          "name": "stdout",
          "text": [
            "Installing Julia 1.7.1 on the current Colab Runtime...\n",
            "2022-07-23 05:16:51 URL:https://storage.googleapis.com/julialang2/bin/linux/x64/1.7/julia-1.7.1-linux-x86_64.tar.gz [123374573/123374573] -> \"/tmp/julia.tar.gz\" [1]\n",
            "Installing Julia package IJulia...\n",
            "Installing Julia package CUDA...\n",
            "Installing IJulia kernel...\n",
            "\u001b[36m\u001b[1m[ \u001b[22m\u001b[39m\u001b[36m\u001b[1mInfo: \u001b[22m\u001b[39mInstalling julia kernelspec in /root/.local/share/jupyter/kernels/julia-1.7\n",
            "\n",
            "Successfully installed julia version 1.7.1!\n",
            "Please reload this page (press Ctrl+R, ⌘+R, or the F5 key) then\n",
            "jump to the 'Checking the Installation' section.\n"
          ]
        },
        {
          "output_type": "execute_result",
          "data": {
            "text/plain": [
              ""
            ]
          },
          "metadata": {},
          "execution_count": 1
        }
      ],
      "source": [
        "%%shell\n",
        "set -e\n",
        "\n",
        "#---------------------------------------------------#\n",
        "JULIA_VERSION=\"1.7.1\" # any version ≥ 0.7.0\n",
        "JULIA_PACKAGES=\"IJulia\"  # CSV DataFrames Random Statistics JWAS\n",
        "JULIA_PACKAGES_IF_GPU=\"CUDA\"\n",
        "JULIA_NUM_THREADS=4\n",
        "#---------------------------------------------------#\n",
        "\n",
        "if [ -n \"$COLAB_GPU\" ] && [ -z `which julia` ]; then\n",
        "  # Install Julia\n",
        "  JULIA_VER=`cut -d '.' -f -2 <<< \"$JULIA_VERSION\"`\n",
        "  echo \"Installing Julia $JULIA_VERSION on the current Colab Runtime...\"\n",
        "  BASE_URL=\"https://julialang-s3.julialang.org/bin/linux/x64\"\n",
        "  URL=\"$BASE_URL/$JULIA_VER/julia-$JULIA_VERSION-linux-x86_64.tar.gz\"\n",
        "  wget -nv $URL -O /tmp/julia.tar.gz # -nv means \"not verbose\"\n",
        "  tar -x -f /tmp/julia.tar.gz -C /usr/local --strip-components 1\n",
        "  rm /tmp/julia.tar.gz\n",
        "\n",
        "  # Install Packages\n",
        "  if [ \"$COLAB_GPU\" = \"1\" ]; then\n",
        "      JULIA_PACKAGES=\"$JULIA_PACKAGES $JULIA_PACKAGES_IF_GPU\"\n",
        "  fi\n",
        "  for PKG in `echo $JULIA_PACKAGES`; do\n",
        "    echo \"Installing Julia package $PKG...\"\n",
        "    julia -e 'using Pkg; pkg\"add '$PKG'; precompile;\"' &> /dev/null\n",
        "  done\n",
        "\n",
        "  # Install kernel and rename it to \"julia\"\n",
        "  echo \"Installing IJulia kernel...\"\n",
        "  julia -e 'using IJulia; IJulia.installkernel(\"julia\", env=Dict(\n",
        "      \"JULIA_NUM_THREADS\"=>\"'\"$JULIA_NUM_THREADS\"'\"))'\n",
        "  KERNEL_DIR=`julia -e \"using IJulia; print(IJulia.kerneldir())\"`\n",
        "  KERNEL_NAME=`ls -d \"$KERNEL_DIR\"/julia*`\n",
        "  mv -f $KERNEL_NAME \"$KERNEL_DIR\"/julia  \n",
        "\n",
        "  echo ''\n",
        "  echo \"Successfully installed `julia -v`!\"\n",
        "  echo \"Please reload this page (press Ctrl+R, ⌘+R, or the F5 key) then\"\n",
        "  echo \"jump to the 'Checking the Installation' section.\"\n",
        "fi"
      ]
    },
    {
      "cell_type": "code",
      "execution_count": null,
      "metadata": {
        "colab": {
          "base_uri": "https://localhost:8080/"
        },
        "id": "EEzvvzCl1i0F",
        "outputId": "231b66f4-8c67-4c26-ed10-96e2d7e39c6c"
      },
      "outputs": [
        {
          "output_type": "stream",
          "name": "stdout",
          "text": [
            "Julia Version 1.7.1\n",
            "Commit ac5cc99908 (2021-12-22 19:35 UTC)\n",
            "Platform Info:\n",
            "  OS: Linux (x86_64-pc-linux-gnu)\n",
            "  CPU: Intel(R) Xeon(R) CPU @ 2.20GHz\n",
            "  WORD_SIZE: 64\n",
            "  LIBM: libopenlibm\n",
            "  LLVM: libLLVM-12.0.1 (ORCJIT, broadwell)\n",
            "Environment:\n",
            "  JULIA_NUM_THREADS = 4\n"
          ]
        }
      ],
      "source": [
        "versioninfo()"
      ]
    },
    {
      "cell_type": "markdown",
      "source": [
        "# Mixed Effects Neural Networks NNMM"
      ],
      "metadata": {
        "id": "8TwZi87MiKld"
      }
    },
    {
      "cell_type": "markdown",
      "source": [
        "# Part1. introduction"
      ],
      "metadata": {
        "id": "hbDdRhb5iN4M"
      }
    },
    {
      "cell_type": "markdown",
      "source": [
        "## 1. Overview\n",
        "The Mixed Effect Neural Networks (NN-MM) extend linear mixed model (\"MM\") to multilayer neural networks (\"NN\") by adding one middle layer between genotype layer and phenotypes layer. Nodes in the middle layer represent intermediate traits, e.g., the known intermediate omics features such as gene expression levels can be incorporated in the middle layer. These three sequential layers form a unified network. \n",
        "\n",
        "![](https://github.com/zhaotianjing/figures/blob/main/omics_example.png?raw=true)\n",
        "\n",
        "NN-MM allow any patterns of missing data in the middle layer, and missing data will be sampled. In below figure, for an individual, the gene expression levels of the first two genes are 0.9 and 0.1, respectively, and the gene expression level of the last gene is missing to be sampled. The missing patterns of gene expression levels can be different for different individuals.\n",
        "\n"
      ],
      "metadata": {
        "id": "mPi_7NKfiQpq"
      }
    },
    {
      "cell_type": "markdown",
      "source": [
        "## 2. Extend linear mixed model to multilayer neural networks\n",
        "\n",
        "Multiple independent single-trait mixed models are used to model the relationships between input layer (genotypes) and middle layer (intermediate traits). Activation functions in the neural network are used to approximate the linear/nonlinear relationships between middle layer (intermediate traits) and output layer (phenotypes). Missing values in the middle layer (intermediate traits) are sampled by Hamiltonian Monte Carlo based on the upstream genotype layer and downstream phenotype layer.\n",
        "\n",
        "Details can be found in our publications:\n",
        "\n",
        "> * Tianjing Zhao, Jian Zeng, and Hao Cheng. Extend mixed models to multilayer neural networks for genomic prediction including intermediate omics data, GENETICS, 2022; [https://doi.org/10.1093/genetics/iyac034](https://doi.org/10.1093/genetics/iyac034). \n",
        "> * Tianjing Zhao, Rohan Fernando, and Hao Cheng. Interpretable artificial neural networks incorporating Bayesian alphabet models for genome-wide prediction and association studies, G3 Genes|Genomes|Genetics, 2021;  [https://doi.org/10.1093/g3journal/jkab228](https://doi.org/10.1093/g3journal/jkab228)"
      ],
      "metadata": {
        "id": "WVWP5cyNiWlm"
      }
    },
    {
      "cell_type": "markdown",
      "source": [
        "## 3. Flexibility\n",
        "\n",
        "NN-MM can fit fully-connected neural networks ((a),(b)), or partial-connected neural networks ((c),(d)). Also, the relationship between middle layer (intermediate traits) and output layer (phenotypes) can be based on activation functions ((a),(c)), or pre-defined by a user-defined function ((b),(d)).\n",
        "\n",
        "![](https://github.com/zhaotianjing/figures/blob/main/wiki_full_vs_partial.png?raw=true)"
      ],
      "metadata": {
        "id": "BhGi0jA7ig4K"
      }
    },
    {
      "cell_type": "markdown",
      "source": [
        "## 4. Multi-threaded parallelism\n",
        "\n",
        "By default, multiple single-trait models will be used to model the relationships between input layer (genotypes) and middle layer (intermediate traits). Multi-threaded parallelism will be used for parallel computing. The number of threads can be checked by running `Threads.nthreads()` in Julia. Usually, using multiple threads will be about 3 times faster than using a single thread.\n",
        "\n",
        "The number of execution threads is controlled by using the -t/--threads command-line argument (requires at least Julia 1.5). \n",
        "\n",
        "For example, to start Julia with 4 threads:\n",
        "\n",
        "```{julia}\n",
        "julia --threads 4\n",
        "```\n",
        "\n",
        "If you're using Juno via IDE like Atom, all threads will be loaded automatically. "
      ],
      "metadata": {
        "id": "3phfmF1bihnG"
      }
    },
    {
      "cell_type": "markdown",
      "source": [
        "# Part 2: Mixed effect neural network: Genotypes -> Unobserved intemediate traits -> Phenotyes"
      ],
      "metadata": {
        "id": "SRyIvW0uisY1"
      }
    },
    {
      "cell_type": "markdown",
      "source": [
        "Tips: please center the phenotypes to have zero mean."
      ],
      "metadata": {
        "id": "AzGsm1Hni0ap"
      }
    },
    {
      "cell_type": "markdown",
      "source": [
        "## Example(a): fully-connected neural networks, all intemediate traits are unobserved\n",
        "- nonlinear function (to define relationship between middle layer and phenotye): tanh (other supported activation functions: \"sigmoid\", \"relu\", \"leakyrelu\", \"linear\")\n",
        "- number of nodes in the middle layer: 3\n",
        "- Bayesian model: multiple independent single-trait BayesC (to sample marker effects on intemediate traits). Note, to use multi-trait Bayesian Alphabet models, please set `mega_trait=false` in `runMCMC()` function.\n",
        "- sample the unobserved intemediate traits in the middle layer: Hamiltonian Monte Carlo\n",
        "\n",
        "![](https://github.com/zhaotianjing/figures/blob/main/part2_example.png?raw=true)"
      ],
      "metadata": {
        "id": "KihgjX2Ui3Sd"
      }
    },
    {
      "cell_type": "code",
      "source": [
        "# Step 1: Load packages\n",
        "using JWAS,DataFrames,CSV,Statistics,JWAS.Datasets,Random\n",
        "Random.seed!(123)\n",
        "\n",
        "# Step 2: Read data \n",
        "phenofile  = dataset(\"phenotypes.csv\") #get example data path\n",
        "genofile   = dataset(\"genotypes.csv\")  #get example data path\n",
        "\n",
        "phenotypes = CSV.read(phenofile,DataFrame,delim = ',',header=true,missingstrings=[\"NA\"]) #read phenotypes (output layer)\n",
        "genotypes  = get_genotypes(genofile,separator=',',method=\"BayesC\");                      #read genotypes  (input layer)\n",
        "\n",
        "\n",
        "# Step 3: Build Model Equations \n",
        "model_equation  =\"y1 = intercept + genotypes\"  #name of phenotypes is \"y1\" in the phenotypes data\n",
        "                                               #name of genotypes is \"genotypes\" (user-defined in the previous step)\n",
        "                                               #the single-trait mixed model used between input and each node in middle layer is: middle node = intercept + genotypes\n",
        "model = build_model(model_equation,\n",
        "\t\t    num_hidden_nodes=3,            #number of nodes in middle layer is 3\n",
        "\t\t    nonlinear_function=\"tanh\");    #tanh function is used to approximate relationship between middle layer and phenotype\n",
        "\n",
        "\n",
        "# Step 4: Run Analysis\n",
        "out=runMCMC(model,phenotypes,chain_length=5000); \n",
        "\n",
        "# Step 5: Check Accuruacy\n",
        "results    = innerjoin(out[\"EBV_NonLinear\"], phenotypes, on = :ID) \n",
        "accuruacy  = cor(results[!,:EBV],results[!,:bv1])"
      ],
      "metadata": {
        "id": "8qHIYW7FjBYq"
      },
      "execution_count": null,
      "outputs": []
    },
    {
      "cell_type": "markdown",
      "source": [
        "## Example output files\n",
        "\n",
        "The i-th middle nodes will be named as \"trait name\"+\"i\". In our example, the observed trait is named \"y1\", and there are 3 middle nodes, so the middle nodes are named as \"y11\", \"y12\", and \"y13\", respectively.\n",
        "\n",
        "Below is a list of files containing estimates and standard deviations for variables of interest. \n",
        "\n",
        "| file name      | description |\n",
        "| -----------    | ----------- |\n",
        "| EBV_NonLinear.txt | estimated breeding values for observed trait  |\n",
        "| EBV_y11.txt       | estimated breeding values for middle node 1      |\n",
        "| EBV_y12.txt       | estimated breeding values for middle node 2      |\n",
        "| EBV_y13.txt       | estimated breeding values for middle node 3      |\n",
        "|genetic_variance.txt                   | estimated genetic variance-covariance of all middle nodes |\n",
        "|heritability.txt                       | estimated heritability of all middle nodes                |\n",
        "|location_parameters.txt                | estimated bias of all middle nodes                        |\n",
        "|neural_networks_bias_and_weights.txt.  | estimated bias of phenotypes and weights between middle nodes and phenotypes|\n",
        "|pi_genotypes.txt                       | estimated pi of all middle nodes                          | \n",
        "|marker_effects_genotypes.txt           | estimated marker effects of all middle nodes              |\n",
        "|residual_variance.txt                  | estimated residual variance-covariance for all middle nodes| \n",
        "\n",
        "Below is a list of files containing MCMC samples for variables of interest. \n",
        "\n",
        "| file name      | description |\n",
        "| -----------    | ----------- |\n",
        "| MCMC_samples_EBV_NonLinear.txt     | MCMC samples from the posterior distribution of breeding values for phenotypes  |\n",
        "| MCMC_samples_EBV_y11.txt     | MCMC samples from the posterior distribution of breeding values for middle node 1       |\n",
        "| MCMC_samples_EBV_y12.txt     | MCMC samples from the posterior distribution of breeding values for middle node 2       |\n",
        "| MCMC_samples_EBV_y13.txt     | MCMC samples from the posterior distribution of breeding values for middle node 3       |\n",
        "|MCMC_samples_genetic_variance.txt                   | MCMC samples from the posterior distribution of genetic variance-covariance for all middle nodes   |\n",
        "|MCMC_samples_heritability.txt                       | MCMC samples from the posterior distribution of heritability for all middle nodes                                | \n",
        "|MCMC_samples_marker_effects_genotypes_y11            |MCMC samples from the posterior distribution of marker effects for middle node 1           |\n",
        "|MCMC_samples_marker_effects_genotypes_y12            |MCMC samples from the posterior distribution of marker effects for middle node 2           |\n",
        "|MCMC_samples_marker_effects_genotypes_y13            |MCMC samples from the posterior distribution of marker effects for middle node 3           |\n",
        "|MCMC_samples_marker_effects_variances_genotypes.txt | MCMC samples from the posterior distribution of marker effect variance for all middle nodes        |\n",
        "|MCMC_samples_neural_networks_bias_and_weights.txt.  | MCMC samples from the posterior distribution of bias of observed trait and weights between middle nodes and phenotypes|\n",
        "|MCMC_samples_pi_genotypes.txt                       | MCMC samples from the posterior distribution of pi for all middle nodes                                          |\n",
        "|MCMC_samples_residual_variance.txt                  |  MCMC samples from the posterior distribution of residual variance-covariance for all middle nodes |"
      ],
      "metadata": {
        "id": "pZY0NQpOjDyQ"
      }
    },
    {
      "cell_type": "markdown",
      "source": [
        ""
      ],
      "metadata": {
        "id": "IkJ5afBajHfU"
      }
    },
    {
      "cell_type": "markdown",
      "source": [
        ""
      ],
      "metadata": {
        "id": "OH_Ju5ubi64H"
      }
    },
    {
      "cell_type": "code",
      "source": [
        ""
      ],
      "metadata": {
        "id": "B0jfQf4PilEv"
      },
      "execution_count": null,
      "outputs": []
    },
    {
      "cell_type": "markdown",
      "source": [
        ""
      ],
      "metadata": {
        "id": "3gE5F6ydicyY"
      }
    }
  ],
  "metadata": {
    "accelerator": "GPU",
    "colab": {
      "collapsed_sections": [],
      "name": "Julia_colab.ipynb",
      "provenance": []
    },
    "kernelspec": {
      "display_name": "Julia",
      "language": "julia",
      "name": "julia"
    },
    "language_info": {
      "file_extension": ".jl",
      "mimetype": "application/julia",
      "name": "julia"
    }
  },
  "nbformat": 4,
  "nbformat_minor": 0
}